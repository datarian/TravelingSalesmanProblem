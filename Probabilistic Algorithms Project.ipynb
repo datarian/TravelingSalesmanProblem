{
 "cells": [
  {
   "cell_type": "code",
   "execution_count": null,
   "metadata": {
    "hide_input": false
   },
   "outputs": [],
   "source": [
    "# load libraries and set plot parameters\n",
    "import os\n",
    "import numpy as np\n",
    "import pandas as pd\n",
    "import numpy as np\n",
    "import scipy.spatial as sp\n",
    "import scipy.stats as st\n",
    "from pathlib import Path\n",
    "import logging\n",
    "import datetime\n",
    "\n",
    "logger = logging.getLogger()\n",
    "\n",
    "def setup_file_logger(log_file):\n",
    "    hdlr = logging.FileHandler(log_file)\n",
    "    formatter = logging.Formatter('%(asctime)s %(levelname)s %(message)s')\n",
    "    hdlr.setFormatter(formatter)\n",
    "    logger.addHandler(hdlr) \n",
    "    logger.setLevel(logging.INFO)\n",
    "\n",
    "def log(message):\n",
    "    #outputs to Jupyter console\n",
    "    print('{} {}'.format(datetime.datetime.now(), message))\n",
    "    #outputs to file\n",
    "    logger.info(message)\n",
    "\n",
    "setup_file_logger('out.log')\n",
    "\n",
    "import matplotlib.pyplot as plt\n",
    "%matplotlib inline\n",
    "\n",
    "import seaborn as sns\n",
    "sns.set(color_codes=True)\n",
    "sns.set_style('ticks')\n",
    "sns.axes_style({'spines.right': False,\n",
    "                'axes.spines.top': False})\n",
    "sns.set_palette(sns.cubehelix_palette(4, start=.5, rot=-.75, reverse=True, dark=0.5))\n",
    "\n",
    "from IPython.display import set_matplotlib_formats\n",
    "set_matplotlib_formats('pdf', 'png')\n",
    "plt.rcParams['savefig.dpi'] = 75\n",
    "\n",
    "plt.rcParams['figure.autolayout'] = False\n",
    "plt.rcParams['figure.figsize'] = (12, 8)\n",
    "plt.rcParams['axes.labelsize'] = 22\n",
    "plt.rcParams['axes.titlesize'] = 20\n",
    "plt.rcParams['xtick.labelsize'] = 20\n",
    "plt.rcParams['ytick.labelsize'] = 22\n",
    "plt.rcParams['font.size'] = 22\n",
    "plt.rcParams['lines.linewidth'] = 2.0\n",
    "plt.rcParams['lines.markersize'] = 8\n",
    "plt.rcParams['legend.fontsize'] = 16\n",
    "\n",
    "# figures:\n",
    "# Where to save the figures\n",
    "PROJECT_ROOT_DIR = \"../\"\n",
    "IMAGES_PATH = os.path.join(PROJECT_ROOT_DIR, \"figures\")\n",
    "\n",
    "if not os.path.exists(IMAGES_PATH):\n",
    "    os.makedirs(IMAGES_PATH)\n",
    "\n",
    "\n",
    "def save_fig(fig_id, tight_layout=True, fig_extension=\"png\", resolution=300):\n",
    "    path = os.path.join(IMAGES_PATH, fig_id + \".\" + fig_extension)\n",
    "    if tight_layout:\n",
    "        plt.tight_layout()\n",
    "    plt.savefig(path, format=fig_extension, dpi=resolution)\n",
    "\n",
    "%load_ext autoreload\n",
    "%autoreload 2"
   ]
  },
  {
   "cell_type": "code",
   "execution_count": null,
   "metadata": {
    "hide_input": false
   },
   "outputs": [],
   "source": [
    "from tsp.tsp import TravelingSalesPersonProblem\n",
    "import tsp.tsp_heuristic as th"
   ]
  },
  {
   "cell_type": "code",
   "execution_count": null,
   "metadata": {
    "hide_input": false
   },
   "outputs": [],
   "source": [
    "def build_plot(heuristic_result):\n",
    "    start = heuristic_result.get_starting_node_for_plotting()\n",
    "    x, y = np.array(heuristic_result.get_cycle_for_plotting()).T\n",
    "    plt.rcParams['figure.figsize'] = (14, 9)\n",
    "    plt.plot(x, y)\n",
    "    plt.plot(start[0], start[1], \"ro\")\n",
    "    plt.title(\"Distance travelled: {0:.1f}\".format(\n",
    "        heuristic_result.loss()))\n",
    "    plt.axis('off')\n",
    "    plt.show()"
   ]
  },
  {
   "cell_type": "markdown",
   "metadata": {},
   "source": [
    "# Traveling Salesman Problem"
   ]
  },
  {
   "cell_type": "markdown",
   "metadata": {
    "toc": true
   },
   "source": [
    "<h1>Table of Contents<span class=\"tocSkip\"></span></h1>\n",
    "<div class=\"toc\"><ul class=\"toc-item\"><li><span><a href=\"#Introduction\" data-toc-modified-id=\"Introduction-1\"><span class=\"toc-item-num\">1&nbsp;&nbsp;</span>Introduction</a></span></li><li><span><a href=\"#Implementation\" data-toc-modified-id=\"Implementation-2\"><span class=\"toc-item-num\">2&nbsp;&nbsp;</span>Implementation</a></span><ul class=\"toc-item\"><li><span><a href=\"#Data-structures\" data-toc-modified-id=\"Data-structures-2.1\"><span class=\"toc-item-num\">2.1&nbsp;&nbsp;</span>Data structures</a></span></li><li><span><a href=\"#Construction-heuristics\" data-toc-modified-id=\"Construction-heuristics-2.2\"><span class=\"toc-item-num\">2.2&nbsp;&nbsp;</span>Construction heuristics</a></span><ul class=\"toc-item\"><li><span><a href=\"#Best-Insertion\" data-toc-modified-id=\"Best-Insertion-2.2.1\"><span class=\"toc-item-num\">2.2.1&nbsp;&nbsp;</span>Best Insertion</a></span></li><li><span><a href=\"#Best-Best-Insertion\" data-toc-modified-id=\"Best-Best-Insertion-2.2.2\"><span class=\"toc-item-num\">2.2.2&nbsp;&nbsp;</span>Best-Best Insertion</a></span></li><li><span><a href=\"#Shortest-Edge\" data-toc-modified-id=\"Shortest-Edge-2.2.3\"><span class=\"toc-item-num\">2.2.3&nbsp;&nbsp;</span>Shortest Edge</a></span></li></ul></li><li><span><a href=\"#Improvement-heuristics\" data-toc-modified-id=\"Improvement-heuristics-2.3\"><span class=\"toc-item-num\">2.3&nbsp;&nbsp;</span>Improvement heuristics</a></span><ul class=\"toc-item\"><li><span><a href=\"#Greedy-Local-Search\" data-toc-modified-id=\"Greedy-Local-Search-2.3.1\"><span class=\"toc-item-num\">2.3.1&nbsp;&nbsp;</span>Greedy Local Search</a></span></li><li><span><a href=\"#Simulated-Annealing\" data-toc-modified-id=\"Simulated-Annealing-2.3.2\"><span class=\"toc-item-num\">2.3.2&nbsp;&nbsp;</span>Simulated Annealing</a></span></li></ul></li></ul></li><li><span><a href=\"#Results\" data-toc-modified-id=\"Results-3\"><span class=\"toc-item-num\">3&nbsp;&nbsp;</span>Results</a></span><ul class=\"toc-item\"><li><span><a href=\"#Summary-Table\" data-toc-modified-id=\"Summary-Table-3.1\"><span class=\"toc-item-num\">3.1&nbsp;&nbsp;</span>Summary Table</a></span></li><li><span><a href=\"#Best-Solutions\" data-toc-modified-id=\"Best-Solutions-3.2\"><span class=\"toc-item-num\">3.2&nbsp;&nbsp;</span>Best Solutions</a></span></li><li><span><a href=\"#Pairwise-Comparison\" data-toc-modified-id=\"Pairwise-Comparison-3.3\"><span class=\"toc-item-num\">3.3&nbsp;&nbsp;</span>Pairwise Comparison</a></span><ul class=\"toc-item\"><li><span><a href=\"#Construction-Heuristics\" data-toc-modified-id=\"Construction-Heuristics-3.3.1\"><span class=\"toc-item-num\">3.3.1&nbsp;&nbsp;</span>Construction Heuristics</a></span></li><li><span><a href=\"#Improvement-Heuristics\" data-toc-modified-id=\"Improvement-Heuristics-3.3.2\"><span class=\"toc-item-num\">3.3.2&nbsp;&nbsp;</span>Improvement Heuristics</a></span></li></ul></li><li><span><a href=\"#Performance-Plots\" data-toc-modified-id=\"Performance-Plots-3.4\"><span class=\"toc-item-num\">3.4&nbsp;&nbsp;</span>Performance Plots</a></span></li></ul></li></ul></div>"
   ]
  },
  {
   "cell_type": "markdown",
   "metadata": {},
   "source": [
    "## Introduction\n",
    "\n",
    "The traveling salesman problem is an optimisation problem for which to date no analytical solution has been found. It describes a network of nodes that have to be connected in a tour so that the path connecting all nodes is as short as possible. Each node can only be visited once and thus has exactly two connecting edges.\n",
    "\n",
    "There are two main families of heuristics for solving the problem. The construction heuristics start with one or a few nodes drawn at random and build the tour from there. The algorithm stops when all nodes are connected in the tour. The family of improvement heuristics start with a randomly chosen tour and then look for possible improvements using several different strategies. The algorithm stops after a certain number of executions.\n",
    "\n",
    "In the scope of this project, the following heuristics will be showcased:\n",
    "\n",
    "* Construction heuristics\n",
    "    * Best insertion\n",
    "    * Best-best insertion\n",
    "    * Shortest Edge\n",
    "* Improvement heuristics\n",
    "    * Greedy local search with the moves:\n",
    "        * Swaping\n",
    "        * Translation\n",
    "        * Inversion\n",
    "        * Mixed move\n",
    "    * Simulated Annealing with the criteria\n",
    "        * Metropolis\n",
    "        * Heat bath"
   ]
  },
  {
   "cell_type": "markdown",
   "metadata": {},
   "source": [
    "## Implementation\n",
    "\n",
    "### Data structures\n",
    "\n",
    "Three classes represent the network on which heuristics operate. These are:\n",
    "\n",
    "* Node: A vertex in the network with x- and y-coordinates and a number\n",
    "* Edge: A line connecting two nodes with a length (*cost*/*distance*)\n",
    "* TravelingSalesPersonProblem: Has a list of all nodes in the network, holds the distance matrix describing the distance between any two nodes in the network and has a distance metric registered used to compute the distance matrix."
   ]
  },
  {
   "cell_type": "code",
   "execution_count": null,
   "metadata": {},
   "outputs": [],
   "source": [
    "nodes = pd.read_csv(\"TSP_411.txt\", sep='\\s+', names=['node', 'x', 'y'])"
   ]
  },
  {
   "cell_type": "markdown",
   "metadata": {
    "variables": {
     "len(nodes.index)": "411",
     "list(nodes.columns.values)": "[&#39;node&#39;, &#39;x&#39;, &#39;y&#39;]"
    }
   },
   "source": [
    "The network consists of {{len(nodes.index)}} nodes. The nodes are read in from a csv file. The three columns {{list(nodes.columns.values)}} in the file represent the node number and the coordinates of a given node. The unconnected nodes are shown in Figure ."
   ]
  },
  {
   "cell_type": "code",
   "execution_count": null,
   "metadata": {},
   "outputs": [],
   "source": [
    "nodes.plot(kind='scatter', x='x', y='y')\n",
    "save_fig(\"network_nodes\")"
   ]
  },
  {
   "cell_type": "code",
   "execution_count": null,
   "metadata": {},
   "outputs": [],
   "source": [
    "tsp = TravelingSalesPersonProblem(nodes)"
   ]
  },
  {
   "cell_type": "markdown",
   "metadata": {},
   "source": [
    "###  Construction heuristics"
   ]
  },
  {
   "cell_type": "markdown",
   "metadata": {},
   "source": [
    "#### Best Insertion\n",
    "\n",
    "The best insertion heuristic starts with 3 randomly chosen nodes. It then randomly selects the next node not included in the tour and finds the pair of nodes between which insertion results in the smallest increase in tour length.\n",
    "\n",
    "This strategy can be seen as a global optimization."
   ]
  },
  {
   "cell_type": "markdown",
   "metadata": {},
   "source": [
    "#### Best-Best Insertion"
   ]
  },
  {
   "cell_type": "markdown",
   "metadata": {},
   "source": [
    "#### Shortest Edge\n",
    "\n",
    "The shortest edge works on a list of all possible $n(n-1)$ edges between the nodes in the network. The edges are first sorted by length. Subsequently, the shortest edge is selected as the starting point. From there, the sorted list is searched for the next node meeting the two constraints:\n",
    "\n",
    "1. Inserted edge does not produce a look that is shorter than the one connecting all nodes\n",
    "2. The two nodes at the endpoints of the edge do not have more than 2 connected edges after insertion\n",
    "\n",
    "The algorithm is repeated until the number of edges is equal to the number of edges connecting all nodes in the network."
   ]
  },
  {
   "cell_type": "markdown",
   "metadata": {},
   "source": [
    "### Improvement heuristics\n",
    "\n",
    "The family of improvement heuristics starts with a randomly constructed tour and seeks to improve the loss by performing various operations. The stopping criterion here is a fixed number of improvement operations."
   ]
  },
  {
   "cell_type": "markdown",
   "metadata": {},
   "source": [
    "#### Greedy Local Search\n",
    "\n",
    "Starting with the random tour, randomly selected nodes are subjected to one of several possible moves. The loss with the move applied is compared to the previous loss and if smaller, the new tour is accepted."
   ]
  },
  {
   "cell_type": "markdown",
   "metadata": {},
   "source": [
    "##### Translate"
   ]
  },
  {
   "cell_type": "markdown",
   "metadata": {},
   "source": [
    "##### Swap"
   ]
  },
  {
   "cell_type": "markdown",
   "metadata": {},
   "source": [
    "##### Invert"
   ]
  },
  {
   "cell_type": "markdown",
   "metadata": {},
   "source": [
    "##### Mixed moves"
   ]
  },
  {
   "cell_type": "markdown",
   "metadata": {},
   "source": [
    "#### Simulated Annealing\n",
    "\n",
    "This heuristic mimics the physical process of annealing metals. At a higher temperature, locally modified cycles have a higher probability of being accepted, so we deliberately accept solutions that increase loss, albeit with a relatively small probability.\n",
    "The temperature is then gradually decreased, raising the bar for accepting new cycles. When the low temperature is reached, the algorithm stops.\n",
    "\n",
    "There are two conditions for accepting new cycles:\n",
    "\n",
    "* Metropolis: This condition accepts all cycles with an improved loss and those with a larger loss at probability [INSERT FORMULA]\n",
    "* Heatbath: The heatbath condition does not automatically accept cycles with a lower loss."
   ]
  },
  {
   "cell_type": "markdown",
   "metadata": {},
   "source": [
    "## Results"
   ]
  },
  {
   "cell_type": "code",
   "execution_count": null,
   "metadata": {},
   "outputs": [],
   "source": [
    "import pickle\n",
    "\n",
    "runs_file = Path('./runs.pkl')\n",
    "if runs_file.is_file():\n",
    "    with open(runs_file, 'rb') as input:\n",
    "        runs = pickle.load(input)\n",
    "else:\n",
    "    n_runs = 30\n",
    "    runs = {\n",
    "        'BestInsertion': [],\n",
    "        'BestBestInsertion': [],\n",
    "        'ShortestEdge': [],\n",
    "        'GreedyLocalSearchSwap': [],\n",
    "        'GreedyLocalSearchTranslate': [],\n",
    "        'GreedyLocalSearchInvert': [],\n",
    "        'GreedyLocalSearchMixed': [],\n",
    "        'SimulatedAnnealingMetropolis': [],\n",
    "        'SimulatedAnnealingHeatBath': []\n",
    "    }\n",
    "\n",
    "    for i in range(n_runs):\n",
    "        heuristics = [\n",
    "            th.BestInsertion(tsp),\n",
    "            th.BestBestInsertion(tsp),\n",
    "            th.ShortestEdge(tsp),\n",
    "            th.GreedyLocalSearchSwap(tsp),\n",
    "            th.GreedyLocalSearchTranslate(tsp),\n",
    "            th.GreedyLocalSearchInvert(tsp),\n",
    "            th.GreedyLocalSearchMixed(tsp),\n",
    "            th.SimulatedAnnealingMetropolis(tsp),\n",
    "            th.SimulatedAnnealingHeatBath(tsp)\n",
    "        ]\n",
    "        log(\"Starting calculations for statistical comparison of heuristics. Doing {} runs...\".format(n_runs))\n",
    "        for h in heuristics:\n",
    "            h.calculate_cycle()\n",
    "            runs[h.__class__.__name__].append([h.loss(), h.get_cycle()])\n",
    "            log(\"Iteration {}: Heuristic {} done\".format(i+1, h.__class__.__name__))\n",
    "    with open('./runs.pkl', 'wb') as output:\n",
    "        pickle.dump(runs, output)"
   ]
  },
  {
   "cell_type": "code",
   "execution_count": null,
   "metadata": {},
   "outputs": [],
   "source": [
    "losses = {}\n",
    "for (key, value) in runs.items():\n",
    "    l = []\n",
    "    for i in range(len(value)):\n",
    "        l.append(value[i][0])\n",
    "    losses[key] = l\n",
    "losses_pd = pd.DataFrame.from_dict(losses)"
   ]
  },
  {
   "cell_type": "markdown",
   "metadata": {},
   "source": [
    "### Summary Table"
   ]
  },
  {
   "cell_type": "code",
   "execution_count": null,
   "metadata": {},
   "outputs": [],
   "source": [
    "stats = losses_pd.describe().drop(['count','25%','50%','75%']).apply(lambda x: round(x, 1))"
   ]
  },
  {
   "cell_type": "code",
   "execution_count": null,
   "metadata": {},
   "outputs": [],
   "source": [
    "def calc_ci(x, conf_int=0.95):\n",
    "    interval = st.t.interval(0.95, len(x)-1, loc=np.mean(x), scale=st.sem(x))\n",
    "    return (round(interval[0], 1), round(interval[1], 1))"
   ]
  },
  {
   "cell_type": "code",
   "execution_count": null,
   "metadata": {},
   "outputs": [],
   "source": [
    "ci = pd.DataFrame(losses_pd.apply(calc_ci),columns=[\"CI\"]).T"
   ]
  },
  {
   "cell_type": "code",
   "execution_count": null,
   "metadata": {},
   "outputs": [],
   "source": [
    "stats = pd.concat([stats,ci])"
   ]
  },
  {
   "cell_type": "code",
   "execution_count": null,
   "metadata": {},
   "outputs": [],
   "source": [
    "stats"
   ]
  },
  {
   "cell_type": "code",
   "execution_count": null,
   "metadata": {},
   "outputs": [],
   "source": [
    "ci_raw = stats.loc['CI',:].T\n",
    "ci = pd.DataFrame(ci_raw.tolist(), columns=['left', 'right'], index = ci_raw.index)\n",
    "names = ci.index"
   ]
  },
  {
   "cell_type": "code",
   "execution_count": null,
   "metadata": {},
   "outputs": [],
   "source": [
    "def build_ci_plot(cis, names, out_name):\n",
    "    fig = plt.figure()\n",
    "    length = len(cis.index)\n",
    "\n",
    "    ax1 = fig.add_subplot(111)\n",
    "    ax1.barh(range(length), width = cis['right']-cis['left'], left = cis['left'],\n",
    "             height = 0.4,\n",
    "            tick_label = names)\n",
    "    ax1.tick_params(axis='both', which='major', labelsize=24,length=0)\n",
    "    save_fig(out_name)    \n",
    "    plt.show()"
   ]
  },
  {
   "cell_type": "code",
   "execution_count": null,
   "metadata": {},
   "outputs": [],
   "source": [
    "build_ci_plot(ci, names, \"confidence_intervals\")"
   ]
  },
  {
   "cell_type": "markdown",
   "metadata": {},
   "source": [
    "### Best Solutions"
   ]
  },
  {
   "cell_type": "code",
   "execution_count": null,
   "metadata": {},
   "outputs": [],
   "source": [
    "hr = th.TspHeuristic(tsp)"
   ]
  },
  {
   "cell_type": "code",
   "execution_count": null,
   "metadata": {},
   "outputs": [],
   "source": [
    "import pandas as pd"
   ]
  },
  {
   "cell_type": "code",
   "execution_count": null,
   "metadata": {},
   "outputs": [],
   "source": [
    "runs_pd = pd.DataFrame.from_dict(runs)"
   ]
  },
  {
   "cell_type": "code",
   "execution_count": null,
   "metadata": {},
   "outputs": [],
   "source": [
    "min_results = runs_pd.min()"
   ]
  },
  {
   "cell_type": "code",
   "execution_count": null,
   "metadata": {},
   "outputs": [],
   "source": [
    "def plot_resulting_cycle(heuristic, results):\n",
    "    x, y = np.array(hr.get_cycle_for_plotting(results[1])).T\n",
    "    plt.rcParams['figure.figsize'] = (14, 9)\n",
    "    plt.plot(x, y)\n",
    "    plt.title(\"Heuristic: {algo} has shortest cycle {loss:.1f}\".format(algo=heuristic, loss=results[0]))\n",
    "    plt.axis('off')\n",
    "    save_fig(\"min_\"+heuristic)\n",
    "    plt.show()"
   ]
  },
  {
   "cell_type": "code",
   "execution_count": null,
   "metadata": {},
   "outputs": [],
   "source": [
    "for i, heuristic in enumerate(min_results.index):\n",
    "    plot_resulting_cycle(heuristic, min_results[i])"
   ]
  },
  {
   "cell_type": "markdown",
   "metadata": {},
   "source": [
    "### Pairwise Comparison"
   ]
  },
  {
   "cell_type": "code",
   "execution_count": null,
   "metadata": {},
   "outputs": [],
   "source": [
    "def build_comparison_plot(results, left_names, right_names, out_name):\n",
    "    fig = plt.figure()\n",
    "    length = len(results.index)\n",
    "\n",
    "    ax1 = fig.add_subplot(111)\n",
    "    ax1.barh(range(length), width = results.statistic,\n",
    "             height = 0.4,\n",
    "            tick_label = left_names)\n",
    "    ax1.tick_params(axis='both', which='major', labelsize=24,length=0)\n",
    "\n",
    "    ax2 = ax1.twinx()   # mirror them\n",
    "    ax2.barh(range(length), width = -results.statistic, height = 0.4, color='white',\n",
    "            tick_label = right_names)\n",
    "    ax2.tick_params(axis='both', which='major', labelsize=24,length=0)\n",
    "\n",
    "    ax1.axes.get_xaxis().set_ticks([])\n",
    "    ax2.axes.get_xaxis().set_ticks([])\n",
    "\n",
    "    for spine in ax1.spines.values():\n",
    "        spine.set_visible(False)\n",
    "    for spine in ax2.spines.values():\n",
    "        spine.set_visible(False)\n",
    "\n",
    "    plt.axvline(linewidth=1, color=\"black\")\n",
    "    save_fig(out_name)    \n",
    "    plt.show()"
   ]
  },
  {
   "cell_type": "markdown",
   "metadata": {},
   "source": [
    "For the two-sample T-test, we assume equal variance in- and idependence between- the two samples.\n",
    "\n",
    "$H_0$: The sample means are equal.\n",
    "$H_1$: The sample means are not equal.\n",
    "\n",
    "The confidence level $\\alpha$ is set at 5 %.\n",
    "\n",
    "A negative statistic indicates that the 'left' sample has a lower mean while a positive statistic indicates that the 'right' sample has a lower mean. When we observe a p-value $\\leq \\alpha$, we reject the null hypothesis $H_0$ at $\\alpha = 5\\%$ and thus conclude that the difference in means is significant.\n",
    "\n",
    "Thus, We can find out which heuristic yields a lower average loss and is thus 'better' at producing short cycles."
   ]
  },
  {
   "cell_type": "markdown",
   "metadata": {},
   "source": [
    "#### Construction Heuristics"
   ]
  },
  {
   "cell_type": "code",
   "execution_count": null,
   "metadata": {},
   "outputs": [],
   "source": [
    "ttest_b_bb = st.ttest_ind(losses['BestInsertion'], losses['BestBestInsertion'])\n",
    "ttest_b_se = st.ttest_ind(losses['BestInsertion'], losses['ShortestEdge'])\n",
    "pairwise_construction = pd.DataFrame({'best-bestbest':\n",
    "                                      {'statistic': ttest_b_bb.statistic,\n",
    "                                       'pval': ttest_b_bb.pvalue},\n",
    "                                      'best-shortest':\n",
    "                                      {'statistic': ttest_b_se.statistic,\n",
    "                                       'pval': ttest_b_se.pvalue}}).T"
   ]
  },
  {
   "cell_type": "code",
   "execution_count": null,
   "metadata": {},
   "outputs": [],
   "source": [
    "build_comparison_plot(pairwise_construction,\n",
    "                      ['Best Insertion', 'Best Insertion'],\n",
    "                      ['Best-best insertion', 'Shortest edge'],\n",
    "                      \"pairwise_construction\")"
   ]
  },
  {
   "cell_type": "markdown",
   "metadata": {},
   "source": [
    "#### Improvement Heuristics"
   ]
  },
  {
   "cell_type": "code",
   "execution_count": null,
   "metadata": {},
   "outputs": [],
   "source": [
    "ttest_st = st.ttest_ind(losses['GreedyLocalSearchSwap'], losses['GreedyLocalSearchTranslate'])\n",
    "ttest_si = st.ttest_ind(losses['GreedyLocalSearchSwap'], losses['GreedyLocalSearchInvert'])\n",
    "ttest_sm = st.ttest_ind(losses['GreedyLocalSearchSwap'], losses['GreedyLocalSearchMixed'])\n",
    "ttest_ti = st.ttest_ind(losses['GreedyLocalSearchTranslate'], losses['GreedyLocalSearchInvert'])\n",
    "ttest_tm = st.ttest_ind(losses['GreedyLocalSearchTranslate'], losses['GreedyLocalSearchMixed'])\n",
    "ttest_im = st.ttest_ind(losses['GreedyLocalSearchInvert'], losses['GreedyLocalSearchMixed'])\n",
    "ttest_mh = st.ttest_ind(losses['SimulatedAnnealingMetropolis'], losses['SimulatedAnnealingHeatBath'])\n",
    "\n",
    "pairwise_improvement = pd.DataFrame({'swap-trans':\n",
    "                                       {'statistic': ttest_st.statistic,\n",
    "                                        'pval': ttest_st.pvalue},\n",
    "                                     'swap-invert':\n",
    "                                       {'statistic': ttest_si.statistic,\n",
    "                                        'pval': ttest_si.pvalue},\n",
    "                                     'swap-mixed':\n",
    "                                       {'statistic': ttest_sm.statistic,\n",
    "                                       'pval': ttest_sm.pvalue},\n",
    "                                     'trans-invert':\n",
    "                                       {'statistic': ttest_ti.statistic,\n",
    "                                        'pval': ttest_ti.pvalue},\n",
    "                                     'trans-mixed':\n",
    "                                       {'statistic': ttest_tm.statistic,\n",
    "                                        'pval': ttest_tm.pvalue},\n",
    "                                     'invert-mixed':\n",
    "                                       {'statistic': ttest_im.statistic,\n",
    "                                        'pval': ttest_im.pvalue},\n",
    "                                     'metro-heat':\n",
    "                                       {'statistic': ttest_mh.statistic,\n",
    "                                        'pval': ttest_mh.pvalue}\n",
    "                                      }).T"
   ]
  },
  {
   "cell_type": "code",
   "execution_count": null,
   "metadata": {},
   "outputs": [],
   "source": [
    "build_comparison_plot(pairwise_improvement,\n",
    "                      ['Gredy Swap', 'Greedy Swap', 'Greedy Swap', 'Greedy Translate', 'Greedy Translate', 'Greedy Inversion', 'S.A. Metropolis'],\n",
    "                      ['Greedy Tranlsate', 'Greedy Inversion', 'Greedy Mixed', 'Greedy Inversion', 'Greedy Mixed', 'Greedy Mixed', 'S.A. Heat Bath'],\n",
    "                      \"pairwise_improvement\")"
   ]
  },
  {
   "cell_type": "markdown",
   "metadata": {},
   "source": [
    "### Performance Plots"
   ]
  },
  {
   "cell_type": "markdown",
   "metadata": {},
   "source": [
    "Performance plots are shown for all improvement heuristics. The loss is high at the beginning when the cycle is initialized at random. It can be expected to decrease to a lower value as more and more improvements are made. Convergence is indicated by a constant slope of the curve. The point where this leveling occurs can be interpreted as the minimum number of iterations necessary to arrive at a 'good' solution."
   ]
  },
  {
   "cell_type": "code",
   "execution_count": null,
   "metadata": {},
   "outputs": [],
   "source": [
    "h = th.GreedyLocalSearchSwap(tsp)\n",
    "log(\"Starting... \")\n",
    "h.calculate_cycle(save_steps=True)\n",
    "log(\"Heuristic {} done\".format(h.__class__.__name__))"
   ]
  },
  {
   "cell_type": "code",
   "execution_count": null,
   "metadata": {},
   "outputs": [],
   "source": [
    "build_plot(h)"
   ]
  },
  {
   "cell_type": "code",
   "execution_count": null,
   "metadata": {},
   "outputs": [],
   "source": [
    "performance_file = Path('./performance.pkl')\n",
    "if performance_file.is_file():\n",
    "    with open(performance_file, 'rb') as input:\n",
    "        performance = pickle.load(input)\n",
    "else:\n",
    "    performance = {}\n",
    "    heuristics = [\n",
    "                th.GreedyLocalSearchSwap(tsp),\n",
    "                th.GreedyLocalSearchTranslate(tsp),\n",
    "                th.GreedyLocalSearchInvert(tsp),\n",
    "                th.GreedyLocalSearchMixed(tsp),\n",
    "                th.SimulatedAnnealingMetropolis(tsp),\n",
    "                th.SimulatedAnnealingHeatBath(tsp)\n",
    "            ]\n",
    "    log(\"Starting calculations for performance plots...\")\n",
    "    for h in heuristics:\n",
    "        h.calculate_cycle(save_steps=True)\n",
    "        log(\"Heuristic {} done\".format(h.__class__.__name__))\n",
    "        performance[h.__class__.__name__] = h.steps\n",
    "        with open(\"./performance.pkl\", \"wb\") as output:\n",
    "            pickle.dump(performance, output)"
   ]
  },
  {
   "cell_type": "code",
   "execution_count": null,
   "metadata": {},
   "outputs": [],
   "source": [
    "gls_performance = pd.DataFrame({'Swap': performance['GreedyLocalSearchSwap'],\n",
    "                                'Translation': performance['GreedyLocalSearchTranslate'],\n",
    "                                'Inversion': performance['GreedyLocalSearchInvert'],\n",
    "                                'Mixed': performance['GreedyLocalSearchMixed']})"
   ]
  },
  {
   "cell_type": "code",
   "execution_count": null,
   "metadata": {},
   "outputs": [],
   "source": [
    "plt.plot(gls_performance)\n",
    "plt.legend(labels=['Swap','Translation', 'Inversion', 'Mixed'])\n",
    "plt.xlabel('Iterations')\n",
    "plt.ylabel('Loss')\n",
    "save_fig(\"greedy_local_search_performance\")\n",
    "plt.show()"
   ]
  },
  {
   "cell_type": "code",
   "execution_count": null,
   "metadata": {},
   "outputs": [],
   "source": [
    "met_performance = pd.DataFrame(performance['SimulatedAnnealingMetropolis']).T"
   ]
  },
  {
   "cell_type": "code",
   "execution_count": null,
   "metadata": {},
   "outputs": [],
   "source": [
    "plt.plot(met_performance)\n",
    "plt.legend(labels=['max', 'mean', 'min'])\n",
    "plt.gca().invert_xaxis()\n",
    "plt.xlabel('Temperature')\n",
    "plt.ylabel('Loss')\n",
    "save_fig(\"simulated_annealing_metro_performance\")\n",
    "plt.show()"
   ]
  },
  {
   "cell_type": "code",
   "execution_count": null,
   "metadata": {},
   "outputs": [],
   "source": [
    "hb_performance = pd.DataFrame(performance['SimulatedAnnealingHeatBath']).T"
   ]
  },
  {
   "cell_type": "code",
   "execution_count": null,
   "metadata": {},
   "outputs": [],
   "source": [
    "plt.plot(hb_performance)\n",
    "plt.legend(labels=['max', 'mean', 'min'])\n",
    "plt.gca().invert_xaxis()\n",
    "plt.xlabel('Temperature')\n",
    "plt.ylabel('Loss')\n",
    "save_fig(\"simulated_annealing_heatbath_performance\")\n",
    "plt.show()"
   ]
  }
 ],
 "metadata": {
  "kernelspec": {
   "display_name": "Python 3",
   "language": "python",
   "name": "python3"
  },
  "language_info": {
   "codemirror_mode": {
    "name": "ipython",
    "version": 3
   },
   "file_extension": ".py",
   "mimetype": "text/x-python",
   "name": "python",
   "nbconvert_exporter": "python",
   "pygments_lexer": "ipython3",
   "version": "3.6.7"
  },
  "latex_envs": {
   "LaTeX_envs_menu_present": true,
   "autoclose": false,
   "autocomplete": true,
   "bibliofile": "biblio.bib",
   "cite_by": "apalike",
   "current_citInitial": 1,
   "eqLabelWithNumbers": true,
   "eqNumInitial": 1,
   "hotkeys": {
    "equation": "Ctrl-E",
    "itemize": "Ctrl-I"
   },
   "labels_anchors": false,
   "latex_user_defs": false,
   "report_style_numbering": false,
   "user_envs_cfg": false
  },
  "toc": {
   "base_numbering": 1,
   "nav_menu": {},
   "number_sections": true,
   "sideBar": true,
   "skip_h1_title": true,
   "title_cell": "Table of Contents",
   "title_sidebar": "Contents",
   "toc_cell": true,
   "toc_position": {
    "height": "913.2px",
    "left": "101px",
    "top": "109.931px",
    "width": "173.6px"
   },
   "toc_section_display": true,
   "toc_window_display": true
  }
 },
 "nbformat": 4,
 "nbformat_minor": 2
}
